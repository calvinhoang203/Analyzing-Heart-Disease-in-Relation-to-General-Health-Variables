{
 "cells": [
  {
   "cell_type": "code",
   "execution_count": 69,
   "id": "84749ab2",
   "metadata": {},
   "outputs": [],
   "source": [
    "import pandas as pd\n",
    "import numpy as np\n",
    "import seaborn as sns\n",
    "import matplotlib.pyplot as plt\n",
    "import ipywidgets as widgets\n",
    "from IPython.display import display\n",
    "from ipywidgets import interact, Dropdown\n",
    "from sklearn.feature_selection import mutual_info_classif\n",
    "from scipy.stats import entropy\n",
    "from sklearn.preprocessing import StandardScaler\n",
    "from scipy.cluster.hierarchy import dendrogram, linkage"
   ]
  },
  {
   "cell_type": "code",
   "execution_count": 70,
   "id": "dad0830a",
   "metadata": {},
   "outputs": [],
   "source": [
    "# Load data\n",
    "HD_data = pd.read_csv(\"heart_disease_health_indicators_BRFSS2015.csv\")\n",
    "HD_data = HD_data.astype(int)\n",
    "#HD_data"
   ]
  },
  {
   "cell_type": "code",
   "execution_count": 71,
   "id": "ee3fec87",
   "metadata": {},
   "outputs": [
    {
     "data": {
      "text/plain": [
       "HeartDiseaseorAttack    0\n",
       "HighBP                  0\n",
       "HighChol                0\n",
       "CholCheck               0\n",
       "BMI                     0\n",
       "Smoker                  0\n",
       "Stroke                  0\n",
       "Diabetes                0\n",
       "PhysActivity            0\n",
       "Fruits                  0\n",
       "Veggies                 0\n",
       "HvyAlcoholConsump       0\n",
       "AnyHealthcare           0\n",
       "NoDocbcCost             0\n",
       "GenHlth                 0\n",
       "MentHlth                0\n",
       "PhysHlth                0\n",
       "DiffWalk                0\n",
       "Sex                     0\n",
       "Age                     0\n",
       "Education               0\n",
       "Income                  0\n",
       "dtype: int64"
      ]
     },
     "execution_count": 71,
     "metadata": {},
     "output_type": "execute_result"
    }
   ],
   "source": [
    "# To check if anything is null\n",
    "\n",
    "HD_data.isnull().sum()    "
   ]
  },
  {
   "cell_type": "code",
   "execution_count": 72,
   "id": "b738df5e",
   "metadata": {},
   "outputs": [],
   "source": [
    "\"\"\"\n",
    "Low PhysHlth: 0-10\n",
    "Mid PhysHlth: 11 - 20 \n",
    "High PhysHlth: 21 - 30 \n",
    "\n",
    "\"\"\"\n",
    "bins = [0, 10, 20, float('inf')]  \n",
    "labels = ['Low PhysHlth', 'Mid PhysHlth', 'High PhysHlth']\n",
    "\n",
    "\n",
    "HD_data[\"PhysHlth_category\"] = pd.cut(HD_data['PhysHlth'], bins=bins, labels=labels, right=False)"
   ]
  },
  {
   "cell_type": "code",
   "execution_count": 73,
   "id": "cdf04871",
   "metadata": {},
   "outputs": [],
   "source": [
    "'''\n",
    "Underweight: BMI less than 18.5\n",
    "Normal weight: BMI 18.5 to 24.9\n",
    "Overweight: BMI 25 to 29.9\n",
    "Obesity: BMI 30 to 40\n",
    "Severe obesity: BMI over 40\n",
    "'''\n",
    "\n",
    "\n",
    "# Define the bins and labels for BMI categories\n",
    "bins = [0, 19, 25, 30, 40, float('inf')]  # BMI category boundaries\n",
    "labels = ['Underweight', 'Normal weight', 'Overweight', 'Obesity', 'Severe obesity']  # BMI category labels\n",
    "\n",
    "# Divide BMI values into categories\n",
    "HD_data['BMI_category'] = pd.cut(HD_data['BMI'], bins=bins, labels=labels, right=False)"
   ]
  },
  {
   "cell_type": "code",
   "execution_count": 74,
   "id": "e43e3c47",
   "metadata": {},
   "outputs": [],
   "source": [
    "\n",
    "\n",
    "\"\"\"\n",
    "Will divide into 3 groups\n",
    "Low Mental Health: 0 - 10 \n",
    "Mid Mental Health: 11 - 20\n",
    "High Mental Health: 21 - 30 \n",
    "\"\"\"\n",
    "\n",
    "bins = [0, 10, 20, float('inf')]  \n",
    "labels = ['Low Mental Health', 'Mid Mental Health', 'High Mental Health']  \n",
    "\n",
    "\n",
    "HD_data['MentHlth_category'] = pd.cut(HD_data['MentHlth'], bins=bins, labels=labels, right=False)\n"
   ]
  },
  {
   "cell_type": "code",
   "execution_count": 75,
   "id": "f8c0a5ab",
   "metadata": {},
   "outputs": [],
   "source": [
    "'''\n",
    "Age division -> 3 groups \n",
    "Young Adult: 18 - 35 : 1 - 5\n",
    "Adult -> 36 - 65 5 - 9\n",
    "Elder -> 65+ Senior 10 - 13\n",
    "\n",
    "'''\n",
    "\n",
    "bins = [1, 5, 10, float('inf')]  \n",
    "labels = ['Young Adult', 'Adult', 'Elder']  \n",
    "\n",
    "\n",
    "HD_data['Age_category'] = pd.cut(HD_data['Age'], bins=bins, labels=labels, right=False)"
   ]
  },
  {
   "cell_type": "code",
   "execution_count": 76,
   "id": "75ad08cb",
   "metadata": {},
   "outputs": [],
   "source": [
    "\"\"\"\n",
    "Divide into 3 groups\n",
    "\n",
    "Low Income: 1 - 3\n",
    "Mid Income: 4 - 6\n",
    "High Income: 7 - 8 \n",
    "\n",
    "\"\"\"\n",
    "\n",
    "\n",
    "bins = [1, 4, 7, float('inf')]  \n",
    "labels = ['Low Income', 'Mid Income', 'High Income']  \n",
    "\n",
    "\n",
    "HD_data['Income_category'] = pd.cut(HD_data['Income'], bins=bins, labels=labels, right=False)"
   ]
  },
  {
   "cell_type": "code",
   "execution_count": 77,
   "id": "0f5d58cc",
   "metadata": {},
   "outputs": [],
   "source": [
    "\"\"\"\n",
    "Low Education: 1 - 2\n",
    "Mid Education: 3 - 4\n",
    "High Education: 5 - 6 \n",
    "\n",
    "\"\"\"\n",
    "\n",
    "\n",
    "bins = [1, 3, 5, float('inf')]  \n",
    "labels = ['Low Education', 'Mid Education', 'High Education']\n",
    "\n",
    "\n",
    "HD_data[\"Education_category\"] = pd.cut(HD_data['Education'], bins=bins, labels=labels, right=False)\n",
    "\n",
    "#print(HD_data['Education_category'])"
   ]
  },
  {
   "cell_type": "code",
   "execution_count": 78,
   "id": "bec1c331",
   "metadata": {},
   "outputs": [],
   "source": [
    "# Correctly create 'Diabetes_Combined' before using it\n",
    "HD_data['Diabetes'] = np.where(HD_data['Diabetes'].isin([1, 2]), 1, 0)\n",
    "\n",
    "\n",
    "\n",
    "# Combine columns with correct referencing\n",
    "HD_data['Combined'] = HD_data['Stroke'].astype(str) + '_' + HD_data['HeartDiseaseorAttack'].astype(str) + '_' + HD_data['Diabetes'].astype(str)\n",
    "\n",
    "# Map numerical columns to categorical labels\n",
    "categorical_mappings = {\n",
    "    'HighBP': {0: 'No', 1: 'Yes'},\n",
    "    'HighChol': {0: 'No', 1: 'Yes'},\n",
    "    'CholCheck': {0: 'No', 1: 'Yes'},\n",
    "    'Smoker': {0: 'No', 1: 'Yes'},\n",
    "    'PhysActivity': {0: 'No', 1: 'Yes'},\n",
    "    'Fruits': {0: 'No', 1: 'Yes'},\n",
    "    'Veggies': {0: 'No', 1: 'Yes'},\n",
    "    'HvyAlcoholConsump': {0: 'No', 1: 'Yes'},\n",
    "    'AnyHealthcare': {0: 'No', 1: 'Yes'},\n",
    "    'NoDocbcCost': {0: 'No', 1: 'Yes'},\n",
    "    'DiffWalk': {0: 'No', 1: 'Yes'},\n",
    "    'Sex': {0: 'Male', 1: 'Female'}\n",
    "}\n",
    "\n",
    "for column, mapping in categorical_mappings.items():\n",
    "    if column in HD_data.columns:\n",
    "        HD_data[column] = HD_data[column].map(mapping)\n",
    "\n"
   ]
  },
  {
   "cell_type": "code",
   "execution_count": 79,
   "id": "a7cab1d3",
   "metadata": {},
   "outputs": [
    {
     "data": {
      "application/vnd.jupyter.widget-view+json": {
       "model_id": "1443dd2fbc9742ba9ce5a6716ee7cbbe",
       "version_major": 2,
       "version_minor": 0
      },
      "text/plain": [
       "interactive(children=(Dropdown(description='Select Variable:', options=('HeartDiseaseorAttack', 'HighBP', 'Hig…"
      ]
     },
     "metadata": {},
     "output_type": "display_data"
    },
    {
     "data": {
      "text/plain": [
       "<function __main__.plot_data(column)>"
      ]
     },
     "execution_count": 79,
     "metadata": {},
     "output_type": "execute_result"
    }
   ],
   "source": [
    "def plot_data(column):\n",
    "    plt.figure(figsize=(10, 6))  # Set the size of the figure\n",
    "    ax = sns.countplot(x='Combined', hue=column, data=HD_data, palette='viridis')\n",
    "    plt.title(f'Distribution of {column} by Combined Categories')\n",
    "    plt.xlabel('Combined Category')\n",
    "    plt.ylabel('Counts')\n",
    "    plt.xticks(rotation=45)  # Rotate x-axis labels for better visibility\n",
    "    # Update the legend\n",
    "    handles, labels = ax.get_legend_handles_labels()\n",
    "    labels = ['No', 'Yes'] if set(labels) == {'0', '1'} else labels\n",
    "    ax.legend(handles=handles, labels=labels, title=column, loc='upper right')\n",
    "    plt.show()\n",
    "\n",
    "# Exclude columns not needed in the dropdown\n",
    "columns_to_exclude = ['Combined', 'BMI', 'MentHlth', \"PhysHlth\", \"Age\", \"Income\", \"Education\"]\n",
    "\n",
    "# Create a dropdown and link it to the plot function\n",
    "columns_to_plot = [col for col in HD_data.columns if col not in columns_to_exclude]\n",
    "dropdown = Dropdown(options=columns_to_plot, description='Select Variable:')\n",
    "interact(plot_data, column=dropdown)\n"
   ]
  },
  {
   "cell_type": "code",
   "execution_count": 80,
   "id": "821da2d0",
   "metadata": {
    "scrolled": true
   },
   "outputs": [
    {
     "data": {
      "application/vnd.jupyter.widget-view+json": {
       "model_id": "78901cc986074c1699749e9f13c2c319",
       "version_major": 2,
       "version_minor": 0
      },
      "text/plain": [
       "interactive(children=(Dropdown(description='Select Variable:', options=('HeartDiseaseorAttack', 'HighBP', 'Hig…"
      ]
     },
     "metadata": {},
     "output_type": "display_data"
    },
    {
     "data": {
      "text/plain": [
       "<function __main__.plot_data(column)>"
      ]
     },
     "execution_count": 80,
     "metadata": {},
     "output_type": "execute_result"
    }
   ],
   "source": [
    "HD_data_filter = HD_data[HD_data[\"Combined\"] != \"0_0_0\"]\n",
    "\n",
    "def plot_data(column):\n",
    "    plt.figure(figsize=(10, 6))  # Set the size of the figure\n",
    "    ax = sns.countplot(x='Combined', hue=column, data=HD_data_filter, palette='viridis')\n",
    "    plt.title(f'Distribution of {column} by Combined Categories')\n",
    "    plt.xlabel('Combined Category')\n",
    "    plt.ylabel('Counts')\n",
    "    plt.xticks(rotation=45)  # Rotate x-axis labels for better visibility\n",
    "    handles, labels = ax.get_legend_handles_labels()\n",
    "    # Adjust labels based on expected unique values in the data\n",
    "    unique_labels = set(HD_data_filter[column].dropna().unique())\n",
    "    if unique_labels == {'Yes', 'No'}:\n",
    "        labels = ['No', 'Yes']\n",
    "    ax.legend(handles=handles, labels=labels, title=column, loc='upper right')\n",
    "    plt.show()\n",
    "\n",
    "# Specify columns to exclude from the dropdown\n",
    "columns_to_exclude = ['Combined', 'BMI', 'MentHlth', \"PhysHlth\", \"Age\", \"Income\", \"Education\"]  # Add more columns as needed\n",
    "\n",
    "# Create a dropdown and link it to the plot function\n",
    "columns_to_plot = [col for col in HD_data.columns if col not in columns_to_exclude]\n",
    "dropdown = Dropdown(options=columns_to_plot, description='Select Variable:')\n",
    "interact(plot_data, column=dropdown)\n"
   ]
  },
  {
   "cell_type": "code",
   "execution_count": 81,
   "id": "56b8a47c",
   "metadata": {},
   "outputs": [
    {
     "data": {
      "application/vnd.jupyter.widget-view+json": {
       "model_id": "630b262f262c4e039a7ec19b2a7d4978",
       "version_major": 2,
       "version_minor": 0
      },
      "text/plain": [
       "interactive(children=(Dropdown(description='Select Variable:', options=('HighBP', 'HighChol', 'PhysActivity', …"
      ]
     },
     "execution_count": 81,
     "metadata": {},
     "output_type": "execute_result"
    }
   ],
   "source": [
    "#Only Highly Interested \n",
    "\n",
    "def create_contingency_table(df, category):\n",
    "    contingency_table = df.groupby('Combined')[category].value_counts().unstack().fillna(0)\n",
    "    total = contingency_table.sum(axis=1)\n",
    "    percentages = (contingency_table.div(total, axis=0) * 100).add_prefix(f\"{category}_%_\")\n",
    "    percentages = percentages.round(2)\n",
    "    percentages = percentages.astype(str) + \"%\"\n",
    "    return pd.concat([contingency_table, percentages, total.rename('Total')], axis=1)\n",
    "\n",
    "# Generate all contingency tables\n",
    "categories = ['HighBP', 'HighChol', 'PhysActivity','Veggies',\n",
    "            'DiffWalk', \"BMI_category\", \"Age_category\"]\n",
    "tables = {cat: create_contingency_table(HD_data, cat) for cat in categories}\n",
    "\n",
    "\n",
    "\n",
    "category_dropdown = widgets.Dropdown(\n",
    "    options=['HighBP', 'HighChol', 'PhysActivity','Veggies',\n",
    "            'DiffWalk', \"BMI_category\", \"Age_category\"],\n",
    "    description='Select Variable:',\n",
    "    disabled=False\n",
    ")\n",
    "\n",
    "# Define function to update output\n",
    "def update_output(category):\n",
    "    table = create_contingency_table(HD_data, category)\n",
    "    display(table)\n",
    "\n",
    "# Create an interactive widget and display the dropdown\n",
    "widgets.interactive(update_output, category=category_dropdown)\n",
    "\n",
    "\n",
    "\n",
    "\n",
    "\n"
   ]
  },
  {
   "cell_type": "code",
   "execution_count": 82,
   "id": "4f050c0c",
   "metadata": {},
   "outputs": [
    {
     "data": {
      "application/vnd.jupyter.widget-view+json": {
       "model_id": "635f6f46f5764fcca9bfc0a983897b81",
       "version_major": 2,
       "version_minor": 0
      },
      "text/plain": [
       "interactive(children=(Dropdown(description='Select Variable:', options=('CholCheck', 'Smoker', 'Fruits', 'HvyA…"
      ]
     },
     "execution_count": 82,
     "metadata": {},
     "output_type": "execute_result"
    }
   ],
   "source": [
    "def create_contingency_table(df, category):\n",
    "    contingency_table = df.groupby('Combined')[category].value_counts().unstack().fillna(0)\n",
    "    total = contingency_table.sum(axis=1)\n",
    "    percentages = (contingency_table.div(total, axis=0) * 100).add_prefix(f\"{category}_%_\")\n",
    "    percentages = percentages.round(2)\n",
    "    percentages = percentages.astype(str) + \"%\"\n",
    "    return pd.concat([contingency_table, percentages, total.rename('Total')], axis=1)\n",
    "\n",
    "# Generate all contingency tables\n",
    "categories = ['CholCheck', 'Smoker','Fruits','HvyAlcoholConsump', 'AnyHealthcare', 'NoDocbcCost', 'Sex', \"MentHlth_category\", \"Income_category\", \"Education_category\", \"GenHlth\"]\n",
    "tables = {cat: create_contingency_table(HD_data, cat) for cat in categories}\n",
    "\n",
    "\n",
    "\n",
    "category_dropdown = widgets.Dropdown(\n",
    "    options=['CholCheck', 'Smoker','Fruits','HvyAlcoholConsump', 'AnyHealthcare', 'NoDocbcCost', 'Sex', \"MentHlth_category\", \"Income_category\", \"Education_category\", \"GenHlth\"],\n",
    "    description='Select Variable:',\n",
    "    disabled=False\n",
    ")\n",
    "\n",
    "# Define function to update output\n",
    "def update_output(category):\n",
    "    table = create_contingency_table(HD_data, category)\n",
    "    display(table)\n",
    "\n",
    "# Create an interactive widget and display the dropdown\n",
    "widgets.interactive(update_output, category=category_dropdown)\n",
    "\n",
    "\n"
   ]
  },
  {
   "cell_type": "code",
   "execution_count": 83,
   "id": "8c053189",
   "metadata": {},
   "outputs": [
    {
     "data": {
      "application/vnd.jupyter.widget-view+json": {
       "model_id": "d99c4c121acc4b4e8366c2403465d65a",
       "version_major": 2,
       "version_minor": 0
      },
      "text/plain": [
       "interactive(children=(Dropdown(description='BMI Category:', options=('Severe obesity', 'Overweight', 'Normal w…"
      ]
     },
     "metadata": {},
     "output_type": "display_data"
    },
    {
     "data": {
      "text/plain": [
       "<function __main__.plot_compared_entropy(bmi_cat, age_cat, phys_health_cat)>"
      ]
     },
     "execution_count": 83,
     "metadata": {},
     "output_type": "execute_result"
    }
   ],
   "source": [
    "# Defined variables for entropy calculation\n",
    "categories = ['HighBP', 'HighChol', 'PhysActivity', 'Veggies', 'DiffWalk', 'Stroke', 'HeartDiseaseorAttack', 'Diabetes']\n",
    "\n",
    "\n",
    "# Calculate entropy for the selected variables\n",
    "def calculate_entropy(data, variable):\n",
    "    counts = data[variable].value_counts(normalize=True, sort=False)\n",
    "    return entropy(counts, base=np.e) if not counts.empty else 0\n",
    "    \n",
    "entropy_values = {var: calculate_entropy(HD_data, var) for var in categories}\n",
    "\n",
    "\n",
    "def plot_compared_entropy(bmi_cat, age_cat, phys_health_cat):\n",
    "    plt.figure(figsize=(12, 8))\n",
    "\n",
    "    # Filter entropy values to include only selected categories\n",
    "    filtered_entropy = {key: entropy_values[key] for key in categories}\n",
    "\n",
    "    # Plotting\n",
    "    names = list(filtered_entropy.keys())  # Categories names\n",
    "    values = list(filtered_entropy.values())  # Corresponding entropy values\n",
    "\n",
    "    # Adding selected categories with their proportions (for dynamic visualization)\n",
    "    names += ['Selected BMI Category: ' + bmi_cat, 'Selected Age Category: ' + age_cat, 'Selected PhysHlth Category: ' + phys_health_cat]\n",
    "    values += [HD_data[HD_data['BMI_category'] == bmi_cat]['BMI_category'].count() / len(HD_data),\n",
    "               HD_data[HD_data['Age_category'] == age_cat]['Age_category'].count() / len(HD_data),\n",
    "               HD_data[HD_data['PhysHlth_category'] == phys_health_cat]['PhysHlth_category'].count() / len(HD_data)]\n",
    "\n",
    "    # Sort by values for better visualization\n",
    "    names, values = zip(*sorted(zip(names, values), key=lambda x: x[1], reverse=True))\n",
    "\n",
    "    plt.barh(names, values, color='skyblue')\n",
    "    plt.xlabel('Proportion / Entropy')\n",
    "    plt.title('Entropy and Proportion of Selected Health Indicators')\n",
    "    plt.gca().invert_yaxis()  # Highest values at the top\n",
    "    plt.show()\n",
    "\n",
    "# Widgets for interactive selection\n",
    "bmi_dropdown = widgets.Dropdown(\n",
    "    options=HD_data['BMI_category'].unique().tolist(),\n",
    "    description='BMI Category:'\n",
    ")\n",
    "\n",
    "age_dropdown = widgets.Dropdown(\n",
    "    options=HD_data['Age_category'].unique().tolist(),\n",
    "    description='Age Category:'\n",
    ")\n",
    "\n",
    "phys_health_dropdown = widgets.Dropdown(\n",
    "    options=HD_data['PhysHlth_category'].unique().tolist(),\n",
    "    description='Physical Health Category:'\n",
    ")\n",
    "\n",
    "widgets.interact(plot_compared_entropy, bmi_cat=bmi_dropdown, age_cat=age_dropdown, phys_health_cat=phys_health_dropdown)"
   ]
  },
  {
   "cell_type": "code",
   "execution_count": 91,
   "id": "0f0aa88d",
   "metadata": {},
   "outputs": [
    {
     "data": {
      "application/vnd.jupyter.widget-view+json": {
       "model_id": "776cc2ab018f467d8a90547c1c5f89c5",
       "version_major": 2,
       "version_minor": 0
      },
      "text/plain": [
       "interactive(children=(Dropdown(description='disease_combination', options=('0_0_0', '0_1_1', '0_0_1', '1_0_0',…"
      ]
     },
     "metadata": {},
     "output_type": "display_data"
    },
    {
     "data": {
      "text/plain": [
       "<function __main__.plot_conditional_entropy(disease_combination)>"
      ]
     },
     "execution_count": 91,
     "metadata": {},
     "output_type": "execute_result"
    }
   ],
   "source": [
    "# Exclude specific disease-related categories\n",
    "conditional_categories = ['HighBP', 'HighChol', 'PhysActivity', 'Veggies', 'DiffWalk', 'BMI_category', 'Age_category', \n",
    "                          'PhysHlth_category']\n",
    "\n",
    "def calculate_conditional_entropy(data, x, given_y):\n",
    "    \"\"\"Calculate the conditional entropy H(X|Y).\"\"\"\n",
    "    joint_prob = pd.crosstab(data[x], data[given_y], normalize=True)\n",
    "    marginal_y = data[given_y].value_counts(normalize=True)\n",
    "    conditional_prob = joint_prob.divide(marginal_y, axis=1)\n",
    "    log_conditional = np.log2(conditional_prob).replace(-np.inf, 0)\n",
    "    conditional_entropy = -(joint_prob * log_conditional).sum().sum()\n",
    "    return conditional_entropy\n",
    "\n",
    "def plot_conditional_entropy(disease_combination):\n",
    "    subset = HD_data[HD_data['Combined'] == disease_combination]\n",
    "    conditional_entropy_values = {\n",
    "        var: calculate_conditional_entropy(subset, var, 'Combined')\n",
    "        for var in conditional_categories  # Using the filtered category list\n",
    "    }\n",
    "    sorted_conditional_entropy_values = sorted(conditional_entropy_values.items(), key=lambda item: item[1], reverse=True)\n",
    "\n",
    "    plt.figure(figsize=(10, 8))\n",
    "    plt.barh([k for k, v in sorted_conditional_entropy_values], [v for k, v in sorted_conditional_entropy_values], color='lightcoral')\n",
    "    plt.xlabel('Conditional Entropy')\n",
    "    plt.title(f'Conditional Entropy of Health Indicators Given {disease_combination}')\n",
    "    plt.gca().invert_yaxis()\n",
    "    plt.show()\n",
    "\n",
    "# Setup for the interactive widget\n",
    "disease_combinations = HD_data['Combined'].unique()\n",
    "dropdown = Dropdown(options=disease_combinations)\n",
    "interact(plot_conditional_entropy, disease_combination=dropdown)"
   ]
  },
  {
   "cell_type": "code",
   "execution_count": 85,
   "id": "a70ef0e5",
   "metadata": {},
   "outputs": [
    {
     "data": {
      "image/png": "[encoded data removed]",
      "text/plain": [
       "<Figure size 800x500 with 1 Axes>"
      ]
     },
     "metadata": {},
     "output_type": "display_data"
    }
   ],
   "source": [
    "disease_counts = HD_data.groupby(['Age_category', 'Combined']).size().unstack(fill_value=0)\n",
    "\n",
    "#Calculate percentages within each age category\n",
    "disease_percentages = disease_counts.div(disease_counts.sum(axis=1), axis=0) * 100\n",
    "\n",
    "\n",
    "plt.figure(figsize=(8, 5))\n",
    "\n",
    "#Plot a line for each disease combination\n",
    "for column in disease_percentages.columns:\n",
    "    plt.plot(disease_percentages.index, disease_percentages[column], marker='o', label=str(column))\n",
    "\n",
    "plt.title('Disease Combination Prevalence by Age Category')\n",
    "plt.xlabel('Age Category')\n",
    "plt.ylabel('Percentage (%)')\n",
    "plt.legend(title='Disease Combinations', bbox_to_anchor=(1.05, 1), loc='upper left')\n",
    "plt.grid(True)\n",
    "plt.xticks(rotation=45)  # Rotate labels for better readability\n",
    "plt.tight_layout()\n",
    "plt.show()"
   ]
  },
  {
   "cell_type": "code",
   "execution_count": 86,
   "id": "5f47929f",
   "metadata": {},
   "outputs": [
    {
     "data": {
      "application/vnd.jupyter.widget-view+json": {
       "model_id": "deef737fcf104b9bb6651d4ec84b73b8",
       "version_major": 2,
       "version_minor": 0
      },
      "text/plain": [
       "interactive(children=(Dropdown(description='category', options=('HighBP', 'HighChol', 'BMI_category', 'PhysAct…"
      ]
     },
     "metadata": {},
     "output_type": "display_data"
    },
    {
     "data": {
      "text/plain": [
       "<function __main__.update_visuals(category)>"
      ]
     },
     "execution_count": 86,
     "metadata": {},
     "output_type": "execute_result"
    }
   ],
   "source": [
    "#HD_data['Disease_Combined'] = HD_data.apply(lambda row: f\"{row['HeartDiseaseorAttack']}_{row['Stroke']}_{row['Diabetes']}\", axis=1)\n",
    "\n",
    "# List of interesting categories for the dropdown\n",
    "interesting_category = [\n",
    "    'HighBP', 'HighChol', 'BMI_category', 'PhysActivity', 'Veggies',\n",
    "    'PhysHlth_category', 'DiffWalk', 'Age_category'\n",
    "]\n",
    "\n",
    "def update_visuals(category):\n",
    "    # Group and count instances for the dataset\n",
    "    full_counts = HD_data.groupby([category, 'Combined']).size().unstack(fill_value=0)\n",
    "    \n",
    "    # Calculate percentages\n",
    "    full_percentages = full_counts.div(full_counts.sum(axis=1), axis=0) * 100\n",
    "    \n",
    "    # Print contingency table for the selected category with formatting\n",
    "    print(f\"Contingency Table for {category} (Including '0_0_0'):\")\n",
    "    display(full_percentages.style.format(\"{:.2f}%\"))\n",
    "\n",
    "    # First Plot - Including '0_0_0'\n",
    "    fig1, ax1 = plt.subplots(figsize=(12, 6))\n",
    "    for column in full_percentages.columns:\n",
    "        ax1.plot(full_percentages.index, full_percentages[column], marker='o', label=str(column))\n",
    "    ax1.set_title('With 0_0_0')\n",
    "    ax1.set_xlabel(category)\n",
    "    ax1.set_ylabel('Percentage (%)')\n",
    "    ax1.legend(title='Disease Combinations', loc='best')\n",
    "    ax1.grid(True)\n",
    "    plt.xticks(rotation=45)\n",
    "    plt.tight_layout()\n",
    "    plt.show()\n",
    "\n",
    "    # Second Plot - Excluding '0_0_0' from display only\n",
    "    non_zero_percentages = full_percentages.drop(columns=['0_0_0'])  # Drop '0_0_0' for zoom calculation\n",
    "    fig2, ax2 = plt.subplots(figsize=(12, 6))\n",
    "    min_value = non_zero_percentages.min().min()  # Find the minimum value across all columns\n",
    "    max_value = non_zero_percentages.max().max()  # Find the maximum value across all columns\n",
    "    for column in full_percentages.columns:\n",
    "        if column != '0_0_0':\n",
    "            ax2.plot(full_percentages.index, full_percentages[column], marker='o', label=str(column))\n",
    "    ax2.set_title('Without 0_0_0')\n",
    "    ax2.set_xlabel(category)\n",
    "    ax2.set_ylabel('Percentage (%)')\n",
    "    ax2.set_ylim([min_value - 5, max_value + 5])  # Adjusted zoom level\n",
    "    ax2.legend(title='Disease Combinations', loc='best')\n",
    "    ax2.grid(True)\n",
    "    plt.xticks(rotation=45)\n",
    "    plt.tight_layout()\n",
    "    plt.show()\n",
    "\n",
    "dropdown = Dropdown(options=interesting_category)\n",
    "interact(update_visuals, category=dropdown)"
   ]
  },
  {
   "cell_type": "code",
   "execution_count": null,
   "id": "2604ab84",
   "metadata": {},
   "outputs": [],
   "source": []
  }
 ],
 "metadata": {
  "kernelspec": {
   "display_name": "Python 3 (ipykernel)",
   "language": "python",
   "name": "python3"
  },
  "language_info": {
   "codemirror_mode": {
    "name": "ipython",
    "version": 3
   },
   "file_extension": ".py",
   "mimetype": "text/x-python",
   "name": "python",
   "nbconvert_exporter": "python",
   "pygments_lexer": "ipython3",
   "version": "3.11.5"
  }
 },
 "nbformat": 4,
 "nbformat_minor": 5
}
